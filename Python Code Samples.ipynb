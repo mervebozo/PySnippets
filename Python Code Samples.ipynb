{
 "cells": [
  {
   "cell_type": "markdown",
   "metadata": {},
   "source": [
    "#### Different Python version usage in jupyter-notebook\n",
    "\n",
    "* Download and install the Python version that you want to work on (https://www.python.org/downloads/release/python-31010/)\n",
    "\n",
    "* Create a virtual environment using:\n",
    "\n",
    "    <code> virtualenv -p \"YOUR_PYTHON_PATH\\python.exe\" myenv</code>\n",
    "\n",
    "\n",
    "* If you get an error like this:\n",
    "\n",
    "    AttributeError: module 'sysconfig' has no attribute '_get_default_scheme'. Did you mean: 'get_default_scheme'?\n",
    "    \n",
    "\n",
    "* Then upgrade your virtualenv:\n",
    "\n",
    "    <code> pip install --upgrade virtualenv </code>\n",
    "    \n",
    "\n",
    "* Then follow these steps:\n",
    "\n",
    "    <code> virtualenv -p \"YOUR_PYTHON_PATH\\python.exe\" myenv\n",
    "    sh myenv/Scripts/activate\n",
    "    pip install ipykernel\n",
    "    python -m ipykernel install --user --name=myenv</code>\n",
    "\n",
    "    <code> jupyter-notebook</code>\n",
    "    \n",
    "\n",
    "* Then choose the \"myenv\" from the environments in the Notebook.\n"
   ]
  },
  {
   "cell_type": "markdown",
   "metadata": {},
   "source": [
    "#### Merging dictionaries with Pythonic way\n"
   ]
  },
  {
   "cell_type": "code",
   "execution_count": 46,
   "metadata": {},
   "outputs": [],
   "source": [
    "dict_1 = {'Jenny': 5, 'Maria': 7, 'Rick': 20}\n",
    "dict_2 = {'Terry': 4, 'Stephen': 2, 'Sofia': 8}"
   ]
  },
  {
   "cell_type": "code",
   "execution_count": 47,
   "metadata": {},
   "outputs": [
    {
     "data": {
      "text/plain": [
       "{'Jenny': 5, 'Maria': 7, 'Rick': 20, 'Terry': 4, 'Stephen': 2, 'Sofia': 8}"
      ]
     },
     "execution_count": 47,
     "metadata": {},
     "output_type": "execute_result"
    }
   ],
   "source": [
    "{**dict_1, **dict_2}"
   ]
  },
  {
   "cell_type": "code",
   "execution_count": 48,
   "metadata": {},
   "outputs": [
    {
     "data": {
      "text/plain": [
       "{'Jenny': 5, 'Maria': 7, 'Rick': 20, 'Terry': 4, 'Stephen': 2, 'Sofia': 8}"
      ]
     },
     "execution_count": 48,
     "metadata": {},
     "output_type": "execute_result"
    }
   ],
   "source": [
    "dict_1 | dict_2"
   ]
  },
  {
   "cell_type": "markdown",
   "metadata": {},
   "source": [
    "#### Counter class\n",
    "An efficient approach to counting the number of items in an iterable object \n",
    "without dealing with loops and different data structures"
   ]
  },
  {
   "cell_type": "code",
   "execution_count": 49,
   "metadata": {},
   "outputs": [
    {
     "name": "stdout",
     "output_type": "stream",
     "text": [
      "Counter({'a': 3, 'n': 2, 'G': 1, 'i': 1, 't': 1, ' ': 1, 'P': 1, 'd': 1})\n",
      "[('a', 3), ('n', 2)]\n"
     ]
    }
   ],
   "source": [
    "from collections import Counter\n",
    "\n",
    "sentence = \"Giant Panda\"\n",
    "word_occurances = Counter(sentence)\n",
    "print(word_occurances)\n",
    "\n",
    "# The two most common objects\n",
    "most_common = word_occurances.most_common(2)\n",
    "print(most_common)"
   ]
  },
  {
   "cell_type": "code",
   "execution_count": null,
   "metadata": {},
   "outputs": [],
   "source": []
  },
  {
   "cell_type": "markdown",
   "metadata": {},
   "source": [
    "#### Optimization"
   ]
  },
  {
   "cell_type": "code",
   "execution_count": 66,
   "metadata": {},
   "outputs": [
    {
     "name": "stdout",
     "output_type": "stream",
     "text": [
      "List size: 104 bytes\n",
      "Tuple size: 80 bytes\n"
     ]
    }
   ],
   "source": [
    "import sys\n",
    "\n",
    "a = [1, 2, 3, 4, 5]\n",
    "b = (1, 2, 3, 4, 5)\n",
    "\n",
    "print(f\"List size: {sys.getsizeof(a)} bytes\")\n",
    "print(f\"Tuple size: {sys.getsizeof(b)} bytes\")\n"
   ]
  },
  {
   "cell_type": "code",
   "execution_count": null,
   "metadata": {},
   "outputs": [],
   "source": []
  },
  {
   "cell_type": "markdown",
   "metadata": {},
   "source": [
    "#### Generators"
   ]
  },
  {
   "cell_type": "code",
   "execution_count": null,
   "metadata": {},
   "outputs": [],
   "source": []
  },
  {
   "cell_type": "code",
   "execution_count": null,
   "metadata": {},
   "outputs": [],
   "source": []
  },
  {
   "cell_type": "markdown",
   "metadata": {},
   "source": [
    "#### Dangerous things"
   ]
  },
  {
   "cell_type": "code",
   "execution_count": 68,
   "metadata": {},
   "outputs": [
    {
     "name": "stdout",
     "output_type": "stream",
     "text": [
      "2734907388544\n",
      "2734907388544\n",
      "[1, 2, 3, 4, 7]\n",
      "2734907388608\n",
      "2734907387968\n",
      "[1, 2, 3, 4, 5]\n"
     ]
    }
   ],
   "source": [
    "a = [1, 2, 3, 4 ,5]\n",
    "b = a\n",
    "\n",
    "# Change the 4th index in b\n",
    "b[4] = 7\n",
    "\n",
    "print(id(a))\n",
    "print(id(b))\n",
    "print(a) # Remember we did not explicitly make changes to a.\n",
    "\n",
    "\n",
    "# You should copy a to b in this way:\n",
    "a = [1, 2, 3, 4 ,5]\n",
    "b = a[:]\n",
    "\n",
    "# Change the 4th index in b\n",
    "b[4] = 7\n",
    "\n",
    "print(id(a))\n",
    "print(id(b))\n",
    "print(a) # Remember we did not explicitly make changes to a."
   ]
  },
  {
   "cell_type": "code",
   "execution_count": null,
   "metadata": {},
   "outputs": [],
   "source": []
  },
  {
   "cell_type": "markdown",
   "metadata": {},
   "source": [
    "#### Some cool stuff"
   ]
  },
  {
   "cell_type": "code",
   "execution_count": 15,
   "metadata": {},
   "outputs": [
    {
     "name": "stdout",
     "output_type": "stream",
     "text": [
      "10 10 2022\n",
      "10/10/2022\n",
      "10-10-2022\n"
     ]
    }
   ],
   "source": [
    "day = \"10\"\n",
    "month = \"10\"\n",
    "year = \"2022\"\n",
    "\n",
    "print(day, month, year)\n",
    "print(day, month, year, sep = \"/\")\n",
    "print(day, month, year, sep = \"-\")"
   ]
  },
  {
   "cell_type": "code",
   "execution_count": 73,
   "metadata": {},
   "outputs": [
    {
     "name": "stdout",
     "output_type": "stream",
     "text": [
      "[2 1 9]\n"
     ]
    }
   ],
   "source": [
    "import numpy as np\n",
    "\n",
    "arr = np.array([[2,3], [1,2], [9,8]])\n",
    "\n",
    "print(arr[...,0])"
   ]
  },
  {
   "cell_type": "code",
   "execution_count": 4,
   "metadata": {},
   "outputs": [
    {
     "name": "stdout",
     "output_type": "stream",
     "text": [
      "18\n",
      "18\n"
     ]
    }
   ],
   "source": [
    "# **kwargs example\n",
    "\n",
    "nums_dict = {\"num1\": 8, \"num2\": 10}\n",
    "\n",
    "def addNums(num1, num2):\n",
    "    return num1 + num2\n",
    "    \n",
    "# these do the same thing:\n",
    "\n",
    "\n",
    "print(addNums(**nums_dict))\n",
    "print(addNums(num1=8, num2=10))"
   ]
  },
  {
   "cell_type": "code",
   "execution_count": 13,
   "metadata": {},
   "outputs": [
    {
     "name": "stdout",
     "output_type": "stream",
     "text": [
      "[16, 19, 29, 13]\n",
      "[2, 4]\n"
     ]
    }
   ],
   "source": [
    "# map example\n",
    "\n",
    "lst1 = [5, 2, 7, 4]\n",
    "lst2 = [15, 12, 18, 1]\n",
    "lst3 = [-4, 5, 4, 8]\n",
    "res = map(lambda elem1, elem2, elem3 : elem1+elem2+elem3, lst1, lst2, lst3)\n",
    "print(list(res))\n",
    "\n",
    "# filter example\n",
    "res = filter(lambda x: (x % 2 == 0), lst1)\n",
    "print(list(res))"
   ]
  },
  {
   "cell_type": "code",
   "execution_count": 27,
   "metadata": {},
   "outputs": [
    {
     "name": "stdout",
     "output_type": "stream",
     "text": [
      "{'manager': {'contact': {'contact number': '+15026955748',\n",
      "                         'email': 'jasongrew@gmail.com'},\n",
      "             'department': 'Sales',\n",
      "             'name': 'Jason Grew',\n",
      "             'team members': ['Brendon Baird', 'Jessi Jones', 'Ray Taylor']}}\n"
     ]
    }
   ],
   "source": [
    "# print complex data structures in easy to read way\n",
    "\n",
    "import requests\n",
    "import pprint\n",
    "\n",
    "data = {\n",
    "    \"manager\": {\n",
    "        \"name\": \"Jason Grew\",\n",
    "        \"contact\": {\"email\": \"jasongrew@gmail.com\", \"contact number\": \"+15026955748\"},\n",
    "        \"department\": \"Sales\",\n",
    "        \"team members\": [\"Brendon Baird\", \"Jessi Jones\", \"Ray Taylor\"]\n",
    "    }\n",
    "}\n",
    "# print(data)\n",
    "pprint.pprint(data)"
   ]
  },
  {
   "cell_type": "code",
   "execution_count": 39,
   "metadata": {},
   "outputs": [
    {
     "name": "stdout",
     "output_type": "stream",
     "text": [
      "zipped:  [('a', 1), ('b', 2), ('c', 3)]\n",
      "unzipped:  [('a', 'b', 'c'), (1, 2, 3)]\n"
     ]
    }
   ],
   "source": [
    "# zip / unzip function\n",
    "\n",
    "lst1 = ['a', 'b', 'c']\n",
    "lst2 = [1, 2, 3]\n",
    "\n",
    "zipped = list(zip(lst1, lst2))\n",
    "print(\"zipped: \", zipped)\n",
    "\n",
    "unzipped = list(zip(*zipped))\n",
    "print(\"unzipped: \", unzipped)"
   ]
  },
  {
   "cell_type": "code",
   "execution_count": 42,
   "metadata": {},
   "outputs": [
    {
     "name": "stdout",
     "output_type": "stream",
     "text": [
      "None\n"
     ]
    }
   ],
   "source": [
    "# Handle missing values in a dict\n",
    "\n",
    "dict_elems = {1: \"a\", 2: \"b\"}\n",
    "# Don't use this. It gives key error:\n",
    "# print(dict_elems[3])\n",
    "\n",
    "# Instead, use this:\n",
    "print(dict_elems.get(3)) # None"
   ]
  },
  {
   "cell_type": "code",
   "execution_count": 47,
   "metadata": {},
   "outputs": [
    {
     "name": "stdout",
     "output_type": "stream",
     "text": [
      "[3, 5, 9, 10, 4, 7, 8]\n"
     ]
    }
   ],
   "source": [
    "# flat 2D list using sum operator\n",
    "\n",
    "list_elems = [[3, 5], [9, 10], [4, 7, 8]]\n",
    "flatten = sum(list_elems, [])\n",
    "\n",
    "print(flatten)"
   ]
  },
  {
   "cell_type": "code",
   "execution_count": null,
   "metadata": {},
   "outputs": [],
   "source": []
  },
  {
   "cell_type": "markdown",
   "metadata": {},
   "source": [
    "#### List Comprehension"
   ]
  },
  {
   "cell_type": "code",
   "execution_count": null,
   "metadata": {},
   "outputs": [],
   "source": []
  },
  {
   "cell_type": "code",
   "execution_count": null,
   "metadata": {},
   "outputs": [],
   "source": []
  },
  {
   "cell_type": "markdown",
   "metadata": {},
   "source": [
    "#### Regular Expressions"
   ]
  },
  {
   "cell_type": "code",
   "execution_count": null,
   "metadata": {},
   "outputs": [],
   "source": []
  },
  {
   "cell_type": "code",
   "execution_count": null,
   "metadata": {},
   "outputs": [],
   "source": []
  }
 ],
 "metadata": {
  "kernelspec": {
   "display_name": "py310",
   "language": "python",
   "name": "py310"
  },
  "language_info": {
   "codemirror_mode": {
    "name": "ipython",
    "version": 3
   },
   "file_extension": ".py",
   "mimetype": "text/x-python",
   "name": "python",
   "nbconvert_exporter": "python",
   "pygments_lexer": "ipython3",
   "version": "3.10.10"
  }
 },
 "nbformat": 4,
 "nbformat_minor": 2
}
